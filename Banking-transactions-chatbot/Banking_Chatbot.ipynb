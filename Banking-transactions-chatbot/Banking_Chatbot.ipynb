{
 "cells": [
  {
   "cell_type": "markdown",
   "id": "42f69c0d-5f7f-485d-aca2-df7732bcc487",
   "metadata": {},
   "source": [
    "# **Project 2: AI Chat For Banking Transactions**\n",
    "\n",
    "**Group Member:**\n",
    "1. P. Balaji  (23070243064)\n",
    "2. Praveen Choudhary (23070243065)\n",
    "3. Soumya Ranjan Nayak (23070243063)\n",
    "4. Mansi Kanojiya (23070243026)\n",
    "5. Shubham Durgude (23070243014)\n"
   ]
  },
  {
   "cell_type": "code",
   "execution_count": 1,
   "id": "07d87676-631f-4696-b9f1-af5e261f256f",
   "metadata": {},
   "outputs": [],
   "source": [
    "# Install Library\n",
    "# !pip install psycopg2\n",
    "# !pip install langchain langchain-google-genai\n",
    "# !pip install --upgrade jupyter ipywidgets\n",
    "# !pip install PyPDF2\n",
    "# !pip install gradio"
   ]
  },
  {
   "cell_type": "code",
   "execution_count": 150,
   "id": "927b9fb6-01bc-42f3-b691-204c0480cf89",
   "metadata": {},
   "outputs": [],
   "source": [
    "# Import Some Library\n",
    "import psycopg2 as ps\n",
    "import datetime\n",
    "import pandas as pd\n",
    "import os\n",
    "from langchain.chains import LLMChain\n",
    "from langchain.prompts import PromptTemplate\n",
    "from langchain_google_genai import ChatGoogleGenerativeAI\n",
    "import PyPDF2\n",
    "import gradio as gr"
   ]
  },
  {
   "cell_type": "markdown",
   "id": "b2082bb5-427d-4263-bb59-ffa2ade34f85",
   "metadata": {},
   "source": [
    "# **Auto Insert And Question Answer System**"
   ]
  },
  {
   "cell_type": "code",
   "execution_count": null,
   "id": "7dca538c-bec0-4e5b-b45e-16c67466c6fd",
   "metadata": {},
   "outputs": [
    {
     "name": "stdout",
     "output_type": "stream",
     "text": [
      "Connected to the database\n"
     ]
    }
   ],
   "source": [
    "class DatabaseHandler:\n",
    "    def __init__(self, db_name, user, password, port):\n",
    "        self.db_name = db_name\n",
    "        self.user = user\n",
    "        self.password = password\n",
    "        self.port = port\n",
    "        self.connection = None\n",
    "        self.cursor = None\n",
    "    \n",
    "    def connect(self):\n",
    "        \"\"\"Connect to the PostgreSQL database.\"\"\"\n",
    "        try:\n",
    "            self.connection = ps.connect(database=self.db_name, user=self.user, password=self.password, port=self.port)\n",
    "            self.cursor = self.connection.cursor()\n",
    "            print(\"Connected to the database\")\n",
    "        except Exception as e:\n",
    "            print(f\"Error connecting to database: {e}\")\n",
    "    \n",
    "    def execute_query(self, query):\n",
    "        \"\"\"Execute the provided SQL query.\"\"\"\n",
    "        try:\n",
    "            self.cursor.execute(query)\n",
    "            self.connection.commit()\n",
    "            print(\"*****************************************\")\n",
    "            print(query)\n",
    "            print(\"*****************************************\")\n",
    "            print(\"Query executed successfully\")\n",
    "            print(\"*****************************************\")\n",
    "        except Exception as e:\n",
    "            print(f\"Error executing query: {e}\")\n",
    "    \n",
    "    def fetch_results(self):\n",
    "        \"\"\"Fetch results of the last executed query.\"\"\"\n",
    "        return self.cursor.fetchall()\n",
    "\n",
    "    def close(self):\n",
    "        \"\"\"Close the database connection.\"\"\"\n",
    "        if self.connection:\n",
    "            self.connection.close()\n",
    "            print(\"Connection closed.\")\n",
    "\n",
    "class SQLGenerator:\n",
    "    def __init__(self, model, temperature):\n",
    "        self.model = model\n",
    "        self.temperature = temperature\n",
    "        os.environ[\"GOOGLE_API_KEY\"] = \"YOUR API KEY\" \n",
    "\n",
    "    def create_chain(self, template):\n",
    "        \"\"\"Create a LangChain LLMChain for generating SQL queries.\"\"\"\n",
    "        prompt = PromptTemplate(input_variables=[\"question\"], template=template)\n",
    "        llm = ChatGoogleGenerativeAI(model=self.model, temperature=self.temperature)\n",
    "        chain = LLMChain(llm=llm, prompt=prompt)\n",
    "        return chain\n",
    "\n",
    "    def clean_sql_query(self, query):\n",
    "        \"\"\"Clean the SQL query to remove unwanted characters or formatting.\"\"\"\n",
    "        query = query.strip()\n",
    "        \n",
    "        query = query.replace(\"```sql\", \"\").replace(\"```\", \"\")\n",
    "        \n",
    "        return query\n",
    "\n",
    "    def generate_sql_from_question(self, question, template):\n",
    "        \"\"\"Generate SQL query based on a natural language question.\"\"\"\n",
    "        chain = self.create_chain(template)\n",
    "        sql_query = chain.run({\"question\": question})\n",
    "        return self.clean_sql_query(sql_query)\n",
    "\n",
    "    def generate_sql_from_pdf_text(self, pdf_text, template):\n",
    "        \"\"\"Generate SQL insert query based on extracted PDF text.\"\"\"\n",
    "        chain = self.create_chain(template)\n",
    "        sql_query = chain.run({\"question\": pdf_text})\n",
    "        return self.clean_sql_query(sql_query)\n",
    "\n",
    "\n",
    "class PDFExtractor:\n",
    "    def __init__(self, pdf_path):\n",
    "        self.pdf_path = pdf_path\n",
    "\n",
    "    def extract_text(self):\n",
    "        \"\"\"Extract text from the provided PDF file.\"\"\"\n",
    "        pdf_name = os.path.basename(pdf_path)\n",
    "\n",
    "        full_text = \"file name: \" + pdf_name \n",
    "        try:\n",
    "            with open(self.pdf_path, 'rb') as file:\n",
    "                reader = PyPDF2.PdfReader(file)\n",
    "                for page_num in range(len(reader.pages)):\n",
    "                    page = reader.pages[page_num]\n",
    "                    full_text += page.extract_text()\n",
    "        except Exception as e:\n",
    "            print(f\"Error extracting PDF text: {e}\")\n",
    "        return full_text\n",
    "\n",
    "class BankSystem:\n",
    "    def __init__(self, db_config, model=\"gemini-pro\", temperature=0.3):\n",
    "        self.db_handler = DatabaseHandler(**db_config)\n",
    "        self.sql_generator = SQLGenerator(model, temperature)\n",
    "        self.result_formatter = LLMChain(\n",
    "            prompt=PromptTemplate(\n",
    "                input_variables=[\"question\", \"result\"],\n",
    "                template=\"\"\"\n",
    "                You are a helpful assistant that translates all generate answer from the result into proper wording.\n",
    "                if data resule in single measure like avg and sum then just write in proper wording formate not in tabluar formate.  \n",
    "                If all data result is tabular then just print this in a proper table format with column (transaction_id, file_path, description, transaction_date, credit, debit, balance). \n",
    "                Also, give the answer according to the question asked by the user.\n",
    "                If the question is out of the box, then just say this data is not available.\n",
    "\n",
    "                Question: {question}\n",
    "                Result: {result}\n",
    "                Proper Wording:\n",
    "                \"\"\"\n",
    "            ),\n",
    "            llm=ChatGoogleGenerativeAI(model=model, temperature=temperature)\n",
    "        )\n",
    "        \n",
    "    def connect_to_db(self):\n",
    "        \"\"\"Connect to the database.\"\"\"\n",
    "        self.db_handler.connect()\n",
    "\n",
    "    def insert_data_from_pdf(self, pdf_path):\n",
    "        \"\"\"Insert data into the database from PDF.\"\"\"\n",
    "        pdf_extractor = PDFExtractor(pdf_path)\n",
    "        pdf_text = pdf_extractor.extract_text()\n",
    "        \n",
    "        insert_template = \"\"\"\n",
    "        You are a helpful assistant that translates pdf text data into SQL queries for generating the query \n",
    "        to insert the data into the table transactions. The table contains columns:\n",
    "        file path, description, transaction_date, credit, debit, balance. \n",
    "        Always return the direct SQL query as the answer. Do not include anything else.\n",
    "        \n",
    "        PDF text data: {question}\n",
    "        SQL Query:\n",
    "        \"\"\"\n",
    "        \n",
    "        sql_query_insert = self.sql_generator.generate_sql_from_pdf_text(pdf_text, insert_template)\n",
    "        self.db_handler.execute_query(sql_query_insert)\n",
    "    \n",
    "    def answer_question(self, question):\n",
    "        \"\"\"Answer user’s question by generating SQL query and formatting the results.\"\"\"\n",
    "        question_template = \"\"\"\n",
    "        You are a helpful assistant that translates natural language questions into SQL queries and make sure also give source to all the query for all the user question.\n",
    "        Generate a valid SQL query based on the given question. In question if user ask about the Source it mean it talk about the file_path. (source = file_path)\n",
    "        Use the table details: transactions (file_path, description, transaction_date, credit, debit, balance).\n",
    "        If the question is out of scope, respond with 'this data is not available'. \n",
    "        Example: Question: total sum of invest on Food by praveen? \n",
    "                 Answer: SELECT  SUM(debit) AS total_investment_on_food FROM transactions WHERE description LIKE '%Food%' AND file_path like '%Praveen%';\n",
    "\n",
    "        Question: {question}\n",
    "        SQL Query:\n",
    "        \"\"\"\n",
    "        \n",
    "        sql_query = self.sql_generator.generate_sql_from_question(question, question_template)\n",
    "        self.db_handler.execute_query(sql_query)\n",
    "        result = self.db_handler.fetch_results()\n",
    "\n",
    "        # Format results into proper wording or table\n",
    "        formatted_result = self.result_formatter.invoke({\"question\": question, \"result\": result})\n",
    "        return formatted_result\n",
    "\n",
    "    def close_db_connection(self):\n",
    "        \"\"\"Close the database connection.\"\"\"\n",
    "        self.db_handler.close()\n",
    "\n",
    "# Example Usage:\n",
    "\n",
    "# Database connection details\n",
    "db_config = {\n",
    "    \"db_name\": \"bank\",\n",
    "    \"user\": \"postgres\",\n",
    "    \"password\": \"Helping@1034\",\n",
    "    \"port\": 5433\n",
    "}\n",
    "\n",
    "# Initialize the bank system\n",
    "bank_system = BankSystem(db_config)\n",
    "\n",
    "# Connect to the database\n",
    "bank_system.connect_to_db()"
   ]
  },
  {
   "cell_type": "markdown",
   "id": "1ca5832c-388b-44d5-858e-8d2e02617049",
   "metadata": {},
   "source": [
    "## **PDF Data Inserted Into The Database PG-Admin**"
   ]
  },
  {
   "cell_type": "code",
   "execution_count": 67,
   "id": "1b0547b3-b4a6-495c-88a8-b33470f522c1",
   "metadata": {},
   "outputs": [
    {
     "name": "stdout",
     "output_type": "stream",
     "text": [
      "*****************************************\n",
      "\n",
      "INSERT INTO transactions (file_path, description, transaction_date, credit, debit, balance) VALUES\n",
      "('Soumya Statement.pdf', 'Payment - Zomato', '01/05/2024', 500.00, 1500.00, 174800.00),\n",
      "('Soumya Statement.pdf', 'Payment - Zomato', '02/05/2024', 100.00, 10000.00, 164900.00),\n",
      "('Soumya Statement.pdf', 'Payment - Deposit', '05/05/2024', 5000.00, 10.00, 169890.00),\n",
      "('Soumya Statement.pdf', 'Payment - Deposit', '06/05/2024', 10000.00, 500.00, 179390.00),\n",
      "('Soumya Statement.pdf', 'Payment - Electricity', '08/05/2024', 0.00, 1000.00, 178390.00),\n",
      "('Soumya Statement.pdf', 'Payment - Swigge', '09/05/2024', 0.00, 5000.00, 173390.00),\n",
      "('Soumya Statement.pdf', 'Payment - Amazon', '10/05/2024', 0.00, 500.00, 172890.00),\n",
      "('Soumya Statement.pdf', 'Payment - Account Transfer Out', '15/05/2024', 0.00, 10000.00, 162890.00);\n",
      "\n",
      "*****************************************\n",
      "Query executed successfully\n",
      "*****************************************\n"
     ]
    }
   ],
   "source": [
    "# Insert data from PDF\n",
    "#pdf_path = \"C:\\\\Users\\\\praveen choudhary\\\\Desktop\\\\Praveen Statement.pdf\" \n",
    "#pdf_path = \"C:\\\\Users\\\\praveen choudhary\\\\Desktop\\\\Balaji Statement.pdf\"\n",
    "#pdf_path = \"C:\\\\Users\\\\praveen choudhary\\\\Desktop\\\\Mansi Statement.pdf\"\n",
    "#pdf_path = \"C:\\\\Users\\\\praveen choudhary\\\\Desktop\\\\Shubham Statement.pdf\"\n",
    "pdf_path = \"C:\\\\Users\\\\praveen choudhary\\\\Desktop\\\\Soumya Statement.pdf\"\n",
    "\n",
    "bank_system.insert_data_from_pdf(pdf_path)"
   ]
  },
  {
   "cell_type": "markdown",
   "id": "00af108b-4704-4751-90ea-adaf317ec104",
   "metadata": {},
   "source": [
    "## **Question Answer**"
   ]
  },
  {
   "cell_type": "code",
   "execution_count": 152,
   "id": "6b48bf9e-08e7-486e-9adb-cb35a2c4a6fc",
   "metadata": {},
   "outputs": [
    {
     "name": "stdout",
     "output_type": "stream",
     "text": [
      "*****************************************\n",
      "\n",
      "SELECT  SUM(debit) AS total_investment_on_food\n",
      "FROM transactions\n",
      "WHERE description LIKE '%Food%'\n",
      "AND file_path like '%Praveen%';\n",
      "\n",
      "*****************************************\n",
      "Query executed successfully\n",
      "*****************************************\n",
      "Praveen has invested a total of 9000 in 'Food'.\n"
     ]
    }
   ],
   "source": [
    "# Answer a question\n",
    "# user_question = input(\"Ask your question: \")\n",
    "user_question = \"What is the total amount invested in 'Food' by Praveen?\"\n",
    "\n",
    "result = bank_system.answer_question(user_question)\n",
    "print(result['text'])\n",
    "# print(result)\n",
    "\n",
    "# Close the database connection\n",
    "# bank_system.close_db_connection()"
   ]
  },
  {
   "cell_type": "code",
   "execution_count": 146,
   "id": "fae50455-6662-41a9-bc66-c54cbb36152f",
   "metadata": {},
   "outputs": [
    {
     "name": "stdout",
     "output_type": "stream",
     "text": [
      "Praveen's total investment in Food is 9000.\n"
     ]
    }
   ],
   "source": [
    "print(result['text'])"
   ]
  },
  {
   "cell_type": "markdown",
   "id": "a52326c9-b22d-4320-aa8e-ffecc527a177",
   "metadata": {},
   "source": [
    "# **Interface**"
   ]
  },
  {
   "cell_type": "code",
   "execution_count": 148,
   "id": "3b29b97d-0b92-4cdc-9667-3438e62fdb61",
   "metadata": {
    "scrolled": true
   },
   "outputs": [
    {
     "name": "stdout",
     "output_type": "stream",
     "text": [
      "* Running on local URL:  http://127.0.0.1:7861\n",
      "\n",
      "To create a public link, set `share=True` in `launch()`.\n"
     ]
    },
    {
     "data": {
      "text/html": [
       "<div><iframe src=\"http://127.0.0.1:7861/\" width=\"100%\" height=\"500\" allow=\"autoplay; camera; microphone; clipboard-read; clipboard-write;\" frameborder=\"0\" allowfullscreen></iframe></div>"
      ],
      "text/plain": [
       "<IPython.core.display.HTML object>"
      ]
     },
     "metadata": {},
     "output_type": "display_data"
    },
    {
     "data": {
      "text/plain": []
     },
     "execution_count": 148,
     "metadata": {},
     "output_type": "execute_result"
    },
    {
     "name": "stdout",
     "output_type": "stream",
     "text": [
      "*****************************************\n",
      "\n",
      "INSERT INTO transactions (\n",
      "  file_path,\n",
      "  description,\n",
      "  transaction_date,\n",
      "  credit,\n",
      "  debit,\n",
      "  balance\n",
      ")\n",
      "VALUES\n",
      "  ('Soumya Statement.pdf', 'Payment - Credit Card', '12/01/2023', 5400.00, NULL, 170400.00),\n",
      "  ('Soumya Statement.pdf', 'Payment - Insurance', '13/02/2023', 3000.00, NULL, 167400.00),\n",
      "  ('Soumya Statement.pdf', 'Account Transfer In', '16/02/2023', 500000.00, NULL, 667400.00),\n",
      "  ('Soumya Statement.pdf', 'Cheque Deposit', '20/02/2023', 10000.00, NULL, 677400.00),\n",
      "  ('Soumya Statement.pdf', 'Payment - Electricity', '24/03/2023', NULL, 1500.00, 675900.00),\n",
      "  ('Soumya Statement.pdf', 'Payment - Water Utility', '25/03/2023', NULL, 600.00, 675300.00),\n",
      "  ('Soumya Statement.pdf', 'Payment - Car Loan', '02/04/2023', NULL, 3500.00, 671800.00),\n",
      "  ('Soumya Statement.pdf', 'Account Transfer Out', '05/05/2023', NULL, 80000.00, 591800.00);\n",
      "\n",
      "*****************************************\n",
      "Query executed successfully\n",
      "*****************************************\n",
      "Error executing query: column \"transactions.file_path\" must appear in the GROUP BY clause or be used in an aggregate function\n",
      "LINE 2: SELECT COUNT(*) AS total_transactions_in_food, file_path AS ...\n",
      "                                                       ^\n",
      "\n",
      "Error executing query: current transaction is aborted, commands ignored until end of transaction block\n",
      "\n",
      "Error executing query: current transaction is aborted, commands ignored until end of transaction block\n",
      "\n",
      "Error executing query: current transaction is aborted, commands ignored until end of transaction block\n",
      "\n"
     ]
    }
   ],
   "source": [
    "import gradio as gr\n",
    "\n",
    "# Define Gradio functions for PDF insertion and question answering\n",
    "def insert_pdf_to_db(pdf_file):\n",
    "    if pdf_file is None:\n",
    "        return \"Please upload a PDF file.\"\n",
    "    \n",
    "    try:\n",
    "        # Insert data from the uploaded PDF into the database\n",
    "        pdf_path = pdf_file.name\n",
    "        bank_system.insert_data_from_pdf(pdf_path)\n",
    "        return \"PDF data inserted successfully into the database.\"\n",
    "    except Exception as e:\n",
    "        return f\"Error processing the PDF: {e}\"\n",
    "\n",
    "def ask_question(question):\n",
    "    try:\n",
    "        result = bank_system.answer_question(question)\n",
    "        return result['text']  # Assuming `result` has a `text` key for formatted output\n",
    "    except Exception as e:\n",
    "        return f\"Error answering the question: {e}\"\n",
    "\n",
    "# Define Gradio interface components\n",
    "with gr.Blocks() as bank_interface:\n",
    "    with gr.Tab(\"Upload PDF\"):\n",
    "        gr.Markdown(\"### Upload your bank statement PDF\")\n",
    "        pdf_input = gr.File(label=\"Upload PDF\", file_types=[\".pdf\"])\n",
    "        pdf_output = gr.Textbox(label=\"Status\", interactive=False)\n",
    "        pdf_submit = gr.Button(\"Insert into Database\")\n",
    "        pdf_submit.click(insert_pdf_to_db, inputs=pdf_input, outputs=pdf_output)\n",
    "\n",
    "    with gr.Tab(\"Question Answering\"):\n",
    "        gr.Markdown(\"### Ask a question about the transactions data\")\n",
    "        question_input = gr.Textbox(label=\"Your Question\", placeholder=\"Type your question here...\", lines=3)\n",
    "        answer_output = gr.Textbox(label=\"Answer\", lines=10, interactive=False)\n",
    "        question_submit = gr.Button(\"Get Answer\")\n",
    "        question_clear = gr.Button(\"Clear Question\")\n",
    "\n",
    "        question_submit.click(ask_question, inputs=question_input, outputs=answer_output)\n",
    "        question_clear.click(lambda: \"\", inputs=None, outputs=[question_input, answer_output])\n",
    "\n",
    "# Launch the Gradio app\n",
    "bank_interface.launch()\n"
   ]
  },
  {
   "cell_type": "code",
   "execution_count": null,
   "id": "b2ac8c97-078b-4fb6-b42a-a23de1214973",
   "metadata": {},
   "outputs": [],
   "source": []
  },
  {
   "cell_type": "code",
   "execution_count": null,
   "id": "e7f300bc-11d3-403a-87b1-d8d68b5af090",
   "metadata": {},
   "outputs": [],
   "source": [
    "# Q1. \"how many transaction happen on Amazon also print source\"\n",
    "# Q2. \"how many transaction happen on Zomato by Shubham\"\n",
    "# Q3. \"how many invest happen on Zomato by Praveen\""
   ]
  }
 ],
 "metadata": {
  "kernelspec": {
   "display_name": "Python 3 (ipykernel)",
   "language": "python",
   "name": "python3"
  },
  "language_info": {
   "codemirror_mode": {
    "name": "ipython",
    "version": 3
   },
   "file_extension": ".py",
   "mimetype": "text/x-python",
   "name": "python",
   "nbconvert_exporter": "python",
   "pygments_lexer": "ipython3",
   "version": "3.11.7"
  }
 },
 "nbformat": 4,
 "nbformat_minor": 5
}
